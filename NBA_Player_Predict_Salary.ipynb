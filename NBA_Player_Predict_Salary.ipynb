{
 "cells": [
  {
   "cell_type": "code",
   "execution_count": 52,
   "id": "6f21a9f1",
   "metadata": {},
   "outputs": [],
   "source": [
    "from datetime import date\n",
    "import pandas as pd\n",
    "import numpy as np\n",
    "import matplotlib.pyplot as plt\n",
    "plt.style.use('dark_background')"
   ]
  },
  {
   "cell_type": "code",
   "execution_count": 53,
   "id": "6c05b8c8",
   "metadata": {},
   "outputs": [
    {
     "data": {
      "text/html": [
       "<div>\n",
       "<style scoped>\n",
       "    .dataframe tbody tr th:only-of-type {\n",
       "        vertical-align: middle;\n",
       "    }\n",
       "\n",
       "    .dataframe tbody tr th {\n",
       "        vertical-align: top;\n",
       "    }\n",
       "\n",
       "    .dataframe thead th {\n",
       "        text-align: right;\n",
       "    }\n",
       "</style>\n",
       "<table border=\"1\" class=\"dataframe\">\n",
       "  <thead>\n",
       "    <tr style=\"text-align: right;\">\n",
       "      <th></th>\n",
       "      <th>full_name</th>\n",
       "      <th>rating</th>\n",
       "      <th>jersey</th>\n",
       "      <th>team</th>\n",
       "      <th>position</th>\n",
       "      <th>b_day</th>\n",
       "      <th>height</th>\n",
       "      <th>weight</th>\n",
       "      <th>salary</th>\n",
       "      <th>country</th>\n",
       "      <th>draft_year</th>\n",
       "      <th>draft_round</th>\n",
       "      <th>draft_peak</th>\n",
       "      <th>college</th>\n",
       "      <th>version</th>\n",
       "    </tr>\n",
       "  </thead>\n",
       "  <tbody>\n",
       "    <tr>\n",
       "      <th>0</th>\n",
       "      <td>LeBron James</td>\n",
       "      <td>97</td>\n",
       "      <td>#23</td>\n",
       "      <td>Los Angeles Lakers</td>\n",
       "      <td>F</td>\n",
       "      <td>12/30/84</td>\n",
       "      <td>6-9 / 2.06</td>\n",
       "      <td>250 lbs. / 113.4 kg.</td>\n",
       "      <td>$37436858</td>\n",
       "      <td>USA</td>\n",
       "      <td>2003</td>\n",
       "      <td>1</td>\n",
       "      <td>1</td>\n",
       "      <td>NaN</td>\n",
       "      <td>NBA2k20</td>\n",
       "    </tr>\n",
       "    <tr>\n",
       "      <th>1</th>\n",
       "      <td>Kawhi Leonard</td>\n",
       "      <td>97</td>\n",
       "      <td>#2</td>\n",
       "      <td>Los Angeles Clippers</td>\n",
       "      <td>F</td>\n",
       "      <td>06/29/91</td>\n",
       "      <td>6-7 / 2.01</td>\n",
       "      <td>225 lbs. / 102.1 kg.</td>\n",
       "      <td>$32742000</td>\n",
       "      <td>USA</td>\n",
       "      <td>2011</td>\n",
       "      <td>1</td>\n",
       "      <td>15</td>\n",
       "      <td>San Diego State</td>\n",
       "      <td>NBA2k20</td>\n",
       "    </tr>\n",
       "    <tr>\n",
       "      <th>2</th>\n",
       "      <td>Giannis Antetokounmpo</td>\n",
       "      <td>96</td>\n",
       "      <td>#34</td>\n",
       "      <td>Milwaukee Bucks</td>\n",
       "      <td>F-G</td>\n",
       "      <td>12/06/94</td>\n",
       "      <td>6-11 / 2.11</td>\n",
       "      <td>242 lbs. / 109.8 kg.</td>\n",
       "      <td>$25842697</td>\n",
       "      <td>Greece</td>\n",
       "      <td>2013</td>\n",
       "      <td>1</td>\n",
       "      <td>15</td>\n",
       "      <td>NaN</td>\n",
       "      <td>NBA2k20</td>\n",
       "    </tr>\n",
       "    <tr>\n",
       "      <th>3</th>\n",
       "      <td>Kevin Durant</td>\n",
       "      <td>96</td>\n",
       "      <td>#7</td>\n",
       "      <td>Brooklyn Nets</td>\n",
       "      <td>F</td>\n",
       "      <td>09/29/88</td>\n",
       "      <td>6-10 / 2.08</td>\n",
       "      <td>230 lbs. / 104.3 kg.</td>\n",
       "      <td>$37199000</td>\n",
       "      <td>USA</td>\n",
       "      <td>2007</td>\n",
       "      <td>1</td>\n",
       "      <td>2</td>\n",
       "      <td>Texas</td>\n",
       "      <td>NBA2k20</td>\n",
       "    </tr>\n",
       "    <tr>\n",
       "      <th>4</th>\n",
       "      <td>James Harden</td>\n",
       "      <td>96</td>\n",
       "      <td>#13</td>\n",
       "      <td>Houston Rockets</td>\n",
       "      <td>G</td>\n",
       "      <td>08/26/89</td>\n",
       "      <td>6-5 / 1.96</td>\n",
       "      <td>220 lbs. / 99.8 kg.</td>\n",
       "      <td>$38199000</td>\n",
       "      <td>USA</td>\n",
       "      <td>2009</td>\n",
       "      <td>1</td>\n",
       "      <td>3</td>\n",
       "      <td>Arizona State</td>\n",
       "      <td>NBA2k20</td>\n",
       "    </tr>\n",
       "  </tbody>\n",
       "</table>\n",
       "</div>"
      ],
      "text/plain": [
       "               full_name  rating jersey                  team position  \\\n",
       "0           LeBron James      97    #23    Los Angeles Lakers        F   \n",
       "1          Kawhi Leonard      97     #2  Los Angeles Clippers        F   \n",
       "2  Giannis Antetokounmpo      96    #34       Milwaukee Bucks      F-G   \n",
       "3           Kevin Durant      96     #7         Brooklyn Nets        F   \n",
       "4           James Harden      96    #13       Houston Rockets        G   \n",
       "\n",
       "      b_day       height                weight     salary country  draft_year  \\\n",
       "0  12/30/84   6-9 / 2.06  250 lbs. / 113.4 kg.  $37436858     USA        2003   \n",
       "1  06/29/91   6-7 / 2.01  225 lbs. / 102.1 kg.  $32742000     USA        2011   \n",
       "2  12/06/94  6-11 / 2.11  242 lbs. / 109.8 kg.  $25842697  Greece        2013   \n",
       "3  09/29/88  6-10 / 2.08  230 lbs. / 104.3 kg.  $37199000     USA        2007   \n",
       "4  08/26/89   6-5 / 1.96   220 lbs. / 99.8 kg.  $38199000     USA        2009   \n",
       "\n",
       "  draft_round draft_peak          college  version  \n",
       "0           1          1              NaN  NBA2k20  \n",
       "1           1         15  San Diego State  NBA2k20  \n",
       "2           1         15              NaN  NBA2k20  \n",
       "3           1          2            Texas  NBA2k20  \n",
       "4           1          3    Arizona State  NBA2k20  "
      ]
     },
     "execution_count": 53,
     "metadata": {},
     "output_type": "execute_result"
    }
   ],
   "source": [
    "df = pd.read_csv(\"nba2k-full.csv\")\n",
    "df.head()"
   ]
  },
  {
   "cell_type": "code",
   "execution_count": 54,
   "id": "2e033c2f",
   "metadata": {},
   "outputs": [],
   "source": [
    "df = df[~df[\"draft_round\"].isin(['Undrafted'])] #remove undrafted players\n",
    "df = df[~df[\"draft_peak\"].isin(['Undrafted'])]"
   ]
  },
  {
   "cell_type": "code",
   "execution_count": 55,
   "id": "8e4dfc5f",
   "metadata": {},
   "outputs": [],
   "source": [
    "df['salary'] = df['salary'].map(lambda x: x.lstrip('$'))\n",
    "df['salary'] = df['salary'].astype(int)"
   ]
  },
  {
   "cell_type": "code",
   "execution_count": 56,
   "id": "e3213704",
   "metadata": {},
   "outputs": [],
   "source": [
    "df = df[[\"rating\", \"team\", \"position\", \"b_day\", \"country\", \"salary\"]] #selected colums to train"
   ]
  },
  {
   "cell_type": "code",
   "execution_count": 57,
   "id": "6c679d41",
   "metadata": {},
   "outputs": [
    {
     "data": {
      "text/plain": [
       "rating      0\n",
       "team        0\n",
       "position    0\n",
       "b_day       0\n",
       "country     0\n",
       "salary      0\n",
       "dtype: int64"
      ]
     },
     "execution_count": 57,
     "metadata": {},
     "output_type": "execute_result"
    }
   ],
   "source": [
    "df = df.dropna()\n",
    "df.isnull().sum()"
   ]
  },
  {
   "cell_type": "code",
   "execution_count": 58,
   "id": "d743f322",
   "metadata": {},
   "outputs": [],
   "source": [
    "df[\"b_day\"] = pd.to_datetime(df[\"b_day\"])\n"
   ]
  },
  {
   "cell_type": "code",
   "execution_count": 59,
   "id": "edb8b28b",
   "metadata": {},
   "outputs": [],
   "source": [
    "def calculateAge(birthDate): \n",
    "    today = date.today() \n",
    "    age = today.year - birthDate.year - ((today.month, today.day) < (birthDate.month, birthDate.day)) \n",
    "    return age "
   ]
  },
  {
   "cell_type": "code",
   "execution_count": 60,
   "id": "9886dea7",
   "metadata": {},
   "outputs": [],
   "source": [
    "df['b_day'] = df['b_day'].apply(calculateAge)\n"
   ]
  },
  {
   "cell_type": "code",
   "execution_count": 61,
   "id": "6f42e569",
   "metadata": {},
   "outputs": [],
   "source": [
    "df = df.rename({\"b_day\": \"age\"}, axis=1)"
   ]
  },
  {
   "cell_type": "code",
   "execution_count": 62,
   "id": "3c7f2ad2",
   "metadata": {},
   "outputs": [
    {
     "data": {
      "text/html": [
       "<div>\n",
       "<style scoped>\n",
       "    .dataframe tbody tr th:only-of-type {\n",
       "        vertical-align: middle;\n",
       "    }\n",
       "\n",
       "    .dataframe tbody tr th {\n",
       "        vertical-align: top;\n",
       "    }\n",
       "\n",
       "    .dataframe thead th {\n",
       "        text-align: right;\n",
       "    }\n",
       "</style>\n",
       "<table border=\"1\" class=\"dataframe\">\n",
       "  <thead>\n",
       "    <tr style=\"text-align: right;\">\n",
       "      <th></th>\n",
       "      <th>rating</th>\n",
       "      <th>team</th>\n",
       "      <th>position</th>\n",
       "      <th>age</th>\n",
       "      <th>country</th>\n",
       "      <th>salary</th>\n",
       "    </tr>\n",
       "  </thead>\n",
       "  <tbody>\n",
       "    <tr>\n",
       "      <th>0</th>\n",
       "      <td>97</td>\n",
       "      <td>Los Angeles Lakers</td>\n",
       "      <td>F</td>\n",
       "      <td>37</td>\n",
       "      <td>USA</td>\n",
       "      <td>37436858</td>\n",
       "    </tr>\n",
       "    <tr>\n",
       "      <th>1</th>\n",
       "      <td>97</td>\n",
       "      <td>Los Angeles Clippers</td>\n",
       "      <td>F</td>\n",
       "      <td>30</td>\n",
       "      <td>USA</td>\n",
       "      <td>32742000</td>\n",
       "    </tr>\n",
       "    <tr>\n",
       "      <th>2</th>\n",
       "      <td>96</td>\n",
       "      <td>Milwaukee Bucks</td>\n",
       "      <td>F-G</td>\n",
       "      <td>27</td>\n",
       "      <td>Greece</td>\n",
       "      <td>25842697</td>\n",
       "    </tr>\n",
       "    <tr>\n",
       "      <th>3</th>\n",
       "      <td>96</td>\n",
       "      <td>Brooklyn Nets</td>\n",
       "      <td>F</td>\n",
       "      <td>33</td>\n",
       "      <td>USA</td>\n",
       "      <td>37199000</td>\n",
       "    </tr>\n",
       "    <tr>\n",
       "      <th>4</th>\n",
       "      <td>96</td>\n",
       "      <td>Houston Rockets</td>\n",
       "      <td>G</td>\n",
       "      <td>32</td>\n",
       "      <td>USA</td>\n",
       "      <td>38199000</td>\n",
       "    </tr>\n",
       "  </tbody>\n",
       "</table>\n",
       "</div>"
      ],
      "text/plain": [
       "   rating                  team position  age country    salary\n",
       "0      97    Los Angeles Lakers        F   37     USA  37436858\n",
       "1      97  Los Angeles Clippers        F   30     USA  32742000\n",
       "2      96       Milwaukee Bucks      F-G   27  Greece  25842697\n",
       "3      96         Brooklyn Nets        F   33     USA  37199000\n",
       "4      96       Houston Rockets        G   32     USA  38199000"
      ]
     },
     "execution_count": 62,
     "metadata": {},
     "output_type": "execute_result"
    }
   ],
   "source": [
    "df.head()"
   ]
  },
  {
   "cell_type": "code",
   "execution_count": 63,
   "id": "5d758697",
   "metadata": {},
   "outputs": [
    {
     "data": {
      "text/plain": [
       "array(['Los Angeles Lakers', 'Los Angeles Clippers', 'Milwaukee Bucks',\n",
       "       'Brooklyn Nets', 'Houston Rockets', 'Golden State Warriors',\n",
       "       'Portland Trail Blazers', 'Philadelphia 76ers', 'Denver Nuggets',\n",
       "       'Minnesota Timberwolves', 'Miami Heat', 'Utah Jazz',\n",
       "       'Detroit Pistons', 'Boston Celtics', 'Dallas Mavericks',\n",
       "       'San Antonio Spurs', 'Washington Wizards', 'Indiana Pacers',\n",
       "       'Toronto Raptors', 'Sacramento Kings', 'Phoenix Suns',\n",
       "       'Cleveland Cavaliers', 'New Orleans Pelicans', 'Orlando Magic',\n",
       "       'Atlanta Hawks', 'Chicago Bulls', 'Oklahoma City Thunder',\n",
       "       'New York Knicks', 'Memphis Grizzlies', 'Charlotte Hornets'],\n",
       "      dtype=object)"
      ]
     },
     "execution_count": 63,
     "metadata": {},
     "output_type": "execute_result"
    }
   ],
   "source": [
    "df['team'].unique()"
   ]
  },
  {
   "cell_type": "code",
   "execution_count": 64,
   "id": "67c7fe77",
   "metadata": {},
   "outputs": [
    {
     "data": {
      "text/plain": [
       "USA                                 264\n",
       "Canada                               13\n",
       "France                                7\n",
       "Croatia                               6\n",
       "Spain                                 5\n",
       "Australia                             5\n",
       "Serbia                                4\n",
       "Turkey                                4\n",
       "Cameroon                              3\n",
       "Slovenia                              3\n",
       "Latvia                                3\n",
       "Nigeria                               3\n",
       "Germany                               3\n",
       "Greece                                3\n",
       "Democratic Republic of the Congo      2\n",
       "Ukraine                               2\n",
       "Lithuania                             2\n",
       "Bosnia and Herzegovina                2\n",
       "Italy                                 2\n",
       "The Bahamas                           2\n",
       "Mali                                  1\n",
       "Haiti                                 1\n",
       "Angola                                1\n",
       "Georgia                               1\n",
       "Brazil                                1\n",
       "United Kingdom                        1\n",
       "Japan                                 1\n",
       "Israel                                1\n",
       "Montenegro                            1\n",
       "Czech                                 1\n",
       "New Zealand                           1\n",
       "Senegal                               1\n",
       "Austria                               1\n",
       "Switzerland                           1\n",
       "Dominican Republic                    1\n",
       "Philippines                           1\n",
       "Finland                               1\n",
       "Egypt                                 1\n",
       "Name: country, dtype: int64"
      ]
     },
     "execution_count": 64,
     "metadata": {},
     "output_type": "execute_result"
    }
   ],
   "source": [
    "df['country'].value_counts()"
   ]
  },
  {
   "cell_type": "code",
   "execution_count": 65,
   "id": "aba9a83d",
   "metadata": {},
   "outputs": [
    {
     "data": {
      "text/plain": [
       "USA                264\n",
       "Other countries     92\n",
       "Name: country, dtype: int64"
      ]
     },
     "execution_count": 65,
     "metadata": {},
     "output_type": "execute_result"
    }
   ],
   "source": [
    "def removeOtherCountries(country):\n",
    "    if country not in ['USA']:\n",
    "        return 'Other countries'\n",
    "    else:\n",
    "        return country\n",
    "\n",
    "df['country'] = df['country'].apply(removeOtherCountries)\n",
    "df['country'].value_counts()\n",
    "   "
   ]
  },
  {
   "cell_type": "code",
   "execution_count": 66,
   "id": "1a7052ef",
   "metadata": {},
   "outputs": [
    {
     "name": "stdout",
     "output_type": "stream",
     "text": [
      "<class 'pandas.core.frame.DataFrame'>\n",
      "Int64Index: 356 entries, 0 to 438\n",
      "Data columns (total 6 columns):\n",
      " #   Column    Non-Null Count  Dtype \n",
      "---  ------    --------------  ----- \n",
      " 0   rating    356 non-null    int64 \n",
      " 1   team      356 non-null    object\n",
      " 2   position  356 non-null    object\n",
      " 3   age       356 non-null    int64 \n",
      " 4   country   356 non-null    object\n",
      " 5   salary    356 non-null    int64 \n",
      "dtypes: int64(3), object(3)\n",
      "memory usage: 19.5+ KB\n"
     ]
    }
   ],
   "source": [
    "df.info()"
   ]
  },
  {
   "cell_type": "code",
   "execution_count": 67,
   "id": "761cc472",
   "metadata": {},
   "outputs": [
    {
     "data": {
      "text/html": [
       "<div>\n",
       "<style scoped>\n",
       "    .dataframe tbody tr th:only-of-type {\n",
       "        vertical-align: middle;\n",
       "    }\n",
       "\n",
       "    .dataframe tbody tr th {\n",
       "        vertical-align: top;\n",
       "    }\n",
       "\n",
       "    .dataframe thead th {\n",
       "        text-align: right;\n",
       "    }\n",
       "</style>\n",
       "<table border=\"1\" class=\"dataframe\">\n",
       "  <thead>\n",
       "    <tr style=\"text-align: right;\">\n",
       "      <th></th>\n",
       "      <th>rating</th>\n",
       "      <th>team</th>\n",
       "      <th>position</th>\n",
       "      <th>age</th>\n",
       "      <th>country</th>\n",
       "      <th>salary</th>\n",
       "    </tr>\n",
       "  </thead>\n",
       "  <tbody>\n",
       "    <tr>\n",
       "      <th>0</th>\n",
       "      <td>97</td>\n",
       "      <td>13</td>\n",
       "      <td>2</td>\n",
       "      <td>37</td>\n",
       "      <td>1</td>\n",
       "      <td>37436858</td>\n",
       "    </tr>\n",
       "    <tr>\n",
       "      <th>1</th>\n",
       "      <td>97</td>\n",
       "      <td>12</td>\n",
       "      <td>2</td>\n",
       "      <td>30</td>\n",
       "      <td>1</td>\n",
       "      <td>32742000</td>\n",
       "    </tr>\n",
       "    <tr>\n",
       "      <th>2</th>\n",
       "      <td>96</td>\n",
       "      <td>16</td>\n",
       "      <td>4</td>\n",
       "      <td>27</td>\n",
       "      <td>0</td>\n",
       "      <td>25842697</td>\n",
       "    </tr>\n",
       "    <tr>\n",
       "      <th>3</th>\n",
       "      <td>96</td>\n",
       "      <td>2</td>\n",
       "      <td>2</td>\n",
       "      <td>33</td>\n",
       "      <td>1</td>\n",
       "      <td>37199000</td>\n",
       "    </tr>\n",
       "    <tr>\n",
       "      <th>4</th>\n",
       "      <td>96</td>\n",
       "      <td>10</td>\n",
       "      <td>5</td>\n",
       "      <td>32</td>\n",
       "      <td>1</td>\n",
       "      <td>38199000</td>\n",
       "    </tr>\n",
       "  </tbody>\n",
       "</table>\n",
       "</div>"
      ],
      "text/plain": [
       "   rating  team  position  age  country    salary\n",
       "0      97    13         2   37        1  37436858\n",
       "1      97    12         2   30        1  32742000\n",
       "2      96    16         4   27        0  25842697\n",
       "3      96     2         2   33        1  37199000\n",
       "4      96    10         5   32        1  38199000"
      ]
     },
     "execution_count": 67,
     "metadata": {},
     "output_type": "execute_result"
    }
   ],
   "source": [
    "#label encoder to map objs to array\n",
    "from sklearn.preprocessing import LabelEncoder\n",
    "le = LabelEncoder()\n",
    "df['team'] = le.fit_transform(df['team'])\n",
    "df['position'] = le.fit_transform(df['position'])\n",
    "df['country']  = le.fit_transform(df['country'])\n",
    "\n",
    "df.head()"
   ]
  },
  {
   "cell_type": "code",
   "execution_count": 68,
   "id": "fcbb4ab9",
   "metadata": {},
   "outputs": [],
   "source": [
    "x = df.drop(['salary'], axis = 1) #drops salary from x-axis\n",
    "y = df['salary']"
   ]
  },
  {
   "cell_type": "code",
   "execution_count": 69,
   "id": "5c205026",
   "metadata": {},
   "outputs": [
    {
     "data": {
      "text/plain": [
       "1416852     16\n",
       "898310       9\n",
       "1618520      8\n",
       "4767000      6\n",
       "32742000     5\n",
       "            ..\n",
       "12667885     1\n",
       "6500000      1\n",
       "19894737     1\n",
       "15500000     1\n",
       "31579390     1\n",
       "Name: salary, Length: 275, dtype: int64"
      ]
     },
     "execution_count": 69,
     "metadata": {},
     "output_type": "execute_result"
    }
   ],
   "source": [
    "df['salary'].value_counts()"
   ]
  },
  {
   "cell_type": "code",
   "execution_count": 70,
   "id": "ca84dd24",
   "metadata": {},
   "outputs": [
    {
     "data": {
      "text/plain": [
       "25    34\n",
       "24    34\n",
       "27    31\n",
       "23    30\n",
       "26    29\n",
       "28    25\n",
       "30    25\n",
       "29    23\n",
       "31    22\n",
       "33    21\n",
       "22    21\n",
       "21    13\n",
       "32    13\n",
       "35    12\n",
       "36    10\n",
       "34     7\n",
       "37     4\n",
       "40     1\n",
       "39     1\n",
       "Name: age, dtype: int64"
      ]
     },
     "execution_count": 70,
     "metadata": {},
     "output_type": "execute_result"
    }
   ],
   "source": [
    "df['age'].value_counts()"
   ]
  },
  {
   "cell_type": "code",
   "execution_count": 71,
   "id": "2562178c",
   "metadata": {},
   "outputs": [
    {
     "data": {
      "image/png": "[encoded data removed]",
      "text/plain": [
       "<Figure size 936x504 with 1 Axes>"
      ]
     },
     "metadata": {},
     "output_type": "display_data"
    }
   ],
   "source": [
    "fig, ax = plt.subplots(1,1, figsize=(13, 7))\n",
    "df.boxplot('salary', 'age', ax=ax)\n",
    "plt.suptitle('Salary vs age')\n",
    "plt.title('')\n",
    "plt.ylabel('salary')\n",
    "plt.xticks(rotation=90)\n",
    "plt.show()"
   ]
  },
  {
   "cell_type": "code",
   "execution_count": 72,
   "id": "e5aac49d",
   "metadata": {},
   "outputs": [],
   "source": [
    "from sklearn.model_selection import train_test_split\n",
    "x_train, x_test, y_train, y_test = train_test_split(x, y, test_size = 0.2)"
   ]
  },
  {
   "cell_type": "code",
   "execution_count": 73,
   "id": "13ed4167",
   "metadata": {},
   "outputs": [],
   "source": [
    "from sklearn.linear_model import LinearRegression\n",
    "lr = LinearRegression()\n",
    "lr.fit(x_train, y_train)\n",
    "predictions = lr.predict(x_test)"
   ]
  },
  {
   "cell_type": "code",
   "execution_count": 74,
   "id": "912f8337",
   "metadata": {},
   "outputs": [],
   "source": [
    "from sklearn.metrics import mean_squared_error, mean_absolute_error\n",
    "import numpy as np\n",
    "error = np.sqrt(mean_squared_error(y_test, predictions))"
   ]
  },
  {
   "cell_type": "code",
   "execution_count": 75,
   "id": "fe325e6b",
   "metadata": {},
   "outputs": [
    {
     "name": "stdout",
     "output_type": "stream",
     "text": [
      "$6,151,439.95\n"
     ]
    }
   ],
   "source": [
    "print(\"${:,.02f}\".format(error))\n"
   ]
  },
  {
   "cell_type": "code",
   "execution_count": 76,
   "id": "37ed73c6",
   "metadata": {},
   "outputs": [],
   "source": [
    "from sklearn.ensemble import RandomForestRegressor\n",
    "random_forest_reg = RandomForestRegressor(random_state=0)\n",
    "random_forest_reg.fit(x_train, y_train)\n",
    "predictions = random_forest_reg.predict(x_test)"
   ]
  },
  {
   "cell_type": "code",
   "execution_count": 77,
   "id": "244ba638",
   "metadata": {},
   "outputs": [
    {
     "name": "stdout",
     "output_type": "stream",
     "text": [
      "$5,887,965.74\n"
     ]
    }
   ],
   "source": [
    "error = np.sqrt(mean_squared_error(y_test, predictions))\n",
    "print(\"${:,.02f}\".format(error))"
   ]
  },
  {
   "cell_type": "code",
   "execution_count": 78,
   "id": "fbda8a21",
   "metadata": {},
   "outputs": [
    {
     "data": {
      "text/plain": [
       "GridSearchCV(estimator=RandomForestRegressor(random_state=0),\n",
       "             param_grid={'max_depth': [None, 2, 4, 6, 8, 10, 12]},\n",
       "             scoring='neg_mean_squared_error')"
      ]
     },
     "execution_count": 78,
     "metadata": {},
     "output_type": "execute_result"
    }
   ],
   "source": [
    "from sklearn.model_selection import GridSearchCV\n",
    "\n",
    "max_depth = [None, 2,4,6,8,10,12]\n",
    "parameters = {\"max_depth\": max_depth}\n",
    "\n",
    "regressor = RandomForestRegressor(random_state=0)\n",
    "gs = GridSearchCV(regressor, parameters, scoring='neg_mean_squared_error')\n",
    "gs.fit(x_train, y_train)"
   ]
  },
  {
   "cell_type": "code",
   "execution_count": 79,
   "id": "2f9ea4a1",
   "metadata": {},
   "outputs": [
    {
     "name": "stdout",
     "output_type": "stream",
     "text": [
      "$5,723,605.17\n"
     ]
    }
   ],
   "source": [
    "regressor = gs.best_estimator_\n",
    "regressor.fit(x_train, y_train)\n",
    "predictions = regressor.predict(x_test)\n",
    "error = np.sqrt(mean_squared_error(y_test, predictions))\n",
    "print(\"${:,.02f}\".format(error))"
   ]
  },
  {
   "cell_type": "code",
   "execution_count": 80,
   "id": "f9642fe1",
   "metadata": {},
   "outputs": [
    {
     "data": {
      "text/html": [
       "<div>\n",
       "<style scoped>\n",
       "    .dataframe tbody tr th:only-of-type {\n",
       "        vertical-align: middle;\n",
       "    }\n",
       "\n",
       "    .dataframe tbody tr th {\n",
       "        vertical-align: top;\n",
       "    }\n",
       "\n",
       "    .dataframe thead th {\n",
       "        text-align: right;\n",
       "    }\n",
       "</style>\n",
       "<table border=\"1\" class=\"dataframe\">\n",
       "  <thead>\n",
       "    <tr style=\"text-align: right;\">\n",
       "      <th></th>\n",
       "      <th>rating</th>\n",
       "      <th>team</th>\n",
       "      <th>position</th>\n",
       "      <th>age</th>\n",
       "      <th>country</th>\n",
       "    </tr>\n",
       "  </thead>\n",
       "  <tbody>\n",
       "    <tr>\n",
       "      <th>0</th>\n",
       "      <td>97</td>\n",
       "      <td>13</td>\n",
       "      <td>2</td>\n",
       "      <td>37</td>\n",
       "      <td>1</td>\n",
       "    </tr>\n",
       "    <tr>\n",
       "      <th>1</th>\n",
       "      <td>97</td>\n",
       "      <td>12</td>\n",
       "      <td>2</td>\n",
       "      <td>30</td>\n",
       "      <td>1</td>\n",
       "    </tr>\n",
       "    <tr>\n",
       "      <th>2</th>\n",
       "      <td>96</td>\n",
       "      <td>16</td>\n",
       "      <td>4</td>\n",
       "      <td>27</td>\n",
       "      <td>0</td>\n",
       "    </tr>\n",
       "    <tr>\n",
       "      <th>3</th>\n",
       "      <td>96</td>\n",
       "      <td>2</td>\n",
       "      <td>2</td>\n",
       "      <td>33</td>\n",
       "      <td>1</td>\n",
       "    </tr>\n",
       "    <tr>\n",
       "      <th>4</th>\n",
       "      <td>96</td>\n",
       "      <td>10</td>\n",
       "      <td>5</td>\n",
       "      <td>32</td>\n",
       "      <td>1</td>\n",
       "    </tr>\n",
       "    <tr>\n",
       "      <th>...</th>\n",
       "      <td>...</td>\n",
       "      <td>...</td>\n",
       "      <td>...</td>\n",
       "      <td>...</td>\n",
       "      <td>...</td>\n",
       "    </tr>\n",
       "    <tr>\n",
       "      <th>434</th>\n",
       "      <td>95</td>\n",
       "      <td>2</td>\n",
       "      <td>2</td>\n",
       "      <td>33</td>\n",
       "      <td>1</td>\n",
       "    </tr>\n",
       "    <tr>\n",
       "      <th>435</th>\n",
       "      <td>95</td>\n",
       "      <td>13</td>\n",
       "      <td>3</td>\n",
       "      <td>28</td>\n",
       "      <td>1</td>\n",
       "    </tr>\n",
       "    <tr>\n",
       "      <th>436</th>\n",
       "      <td>94</td>\n",
       "      <td>6</td>\n",
       "      <td>6</td>\n",
       "      <td>22</td>\n",
       "      <td>0</td>\n",
       "    </tr>\n",
       "    <tr>\n",
       "      <th>437</th>\n",
       "      <td>94</td>\n",
       "      <td>24</td>\n",
       "      <td>5</td>\n",
       "      <td>31</td>\n",
       "      <td>1</td>\n",
       "    </tr>\n",
       "    <tr>\n",
       "      <th>438</th>\n",
       "      <td>91</td>\n",
       "      <td>22</td>\n",
       "      <td>0</td>\n",
       "      <td>27</td>\n",
       "      <td>0</td>\n",
       "    </tr>\n",
       "  </tbody>\n",
       "</table>\n",
       "<p>356 rows × 5 columns</p>\n",
       "</div>"
      ],
      "text/plain": [
       "     rating  team  position  age  country\n",
       "0        97    13         2   37        1\n",
       "1        97    12         2   30        1\n",
       "2        96    16         4   27        0\n",
       "3        96     2         2   33        1\n",
       "4        96    10         5   32        1\n",
       "..      ...   ...       ...  ...      ...\n",
       "434      95     2         2   33        1\n",
       "435      95    13         3   28        1\n",
       "436      94     6         6   22        0\n",
       "437      94    24         5   31        1\n",
       "438      91    22         0   27        0\n",
       "\n",
       "[356 rows x 5 columns]"
      ]
     },
     "execution_count": 80,
     "metadata": {},
     "output_type": "execute_result"
    }
   ],
   "source": [
    "x #see values of x"
   ]
  },
  {
   "cell_type": "code",
   "execution_count": 81,
   "id": "0693e9df",
   "metadata": {},
   "outputs": [
    {
     "data": {
      "text/plain": [
       "array([[90, 12,  2, 30,  1]])"
      ]
     },
     "execution_count": 81,
     "metadata": {},
     "output_type": "execute_result"
    }
   ],
   "source": [
    "# example input to calculate prediction using training model\n",
    "            #rating, team, position, age, country\n",
    "X = np.array([[90, 12, 2, 30, 1]])\n",
    "X"
   ]
  },
  {
   "cell_type": "code",
   "execution_count": 82,
   "id": "483df228",
   "metadata": {},
   "outputs": [
    {
     "name": "stderr",
     "output_type": "stream",
     "text": [
      "/opt/homebrew/lib/python3.9/site-packages/sklearn/base.py:450: UserWarning: X does not have valid feature names, but RandomForestRegressor was fitted with feature names\n",
      "  warnings.warn(\n"
     ]
    },
    {
     "data": {
      "text/plain": [
       "array([31858743.32170058])"
      ]
     },
     "execution_count": 82,
     "metadata": {},
     "output_type": "execute_result"
    }
   ],
   "source": [
    "#regression test for example input array\n",
    "reg = regressor.predict(X)\n",
    "reg"
   ]
  },
  {
   "cell_type": "code",
   "execution_count": 83,
   "id": "18c51a1b",
   "metadata": {},
   "outputs": [],
   "source": [
    "import pickle"
   ]
  },
  {
   "cell_type": "code",
   "execution_count": 84,
   "id": "be988b74",
   "metadata": {},
   "outputs": [],
   "source": [
    "data = {\"model\": regressor}\n",
    "with open('saved_file.pkl', 'wb') as file:\n",
    "    pickle.dump(data, file)"
   ]
  },
  {
   "cell_type": "code",
   "execution_count": 85,
   "id": "f96e4118",
   "metadata": {},
   "outputs": [],
   "source": [
    "with open('saved_file.pkl', 'rb') as file:\n",
    "    data = pickle.load(file)\n",
    "\n",
    "regressor_loaded = data[\"model\"]"
   ]
  },
  {
   "cell_type": "code",
   "execution_count": null,
   "id": "2ea3ec44",
   "metadata": {},
   "outputs": [],
   "source": []
  }
 ],
 "metadata": {
  "kernelspec": {
   "display_name": "ml",
   "language": "python",
   "name": "ml"
  },
  "language_info": {
   "codemirror_mode": {
    "name": "ipython",
    "version": 3
   },
   "file_extension": ".py",
   "mimetype": "text/x-python",
   "name": "python",
   "nbconvert_exporter": "python",
   "pygments_lexer": "ipython3",
   "version": "3.9.9"
  }
 },
 "nbformat": 4,
 "nbformat_minor": 5
}
